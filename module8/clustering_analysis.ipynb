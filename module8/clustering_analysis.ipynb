{
 "cells": [
  {
   "cell_type": "markdown",
   "id": "25e8ac80",
   "metadata": {},
   "source": [
    "## Data Preparation"
   ]
  },
  {
   "cell_type": "code",
   "execution_count": null,
   "id": "92fff212",
   "metadata": {},
   "outputs": [],
   "source": [
    "# Import Required Libraries\n",
    "import numpy as np\n",
    "import pandas as pd\n",
    "import matplotlib.pyplot as plt\n",
    "import seaborn as sns\n",
    "from sklearn.datasets import load_wine\n",
    "from sklearn.preprocessing import StandardScaler\n",
    "from sklearn.cluster import KMeans, AgglomerativeClustering\n",
    "from sklearn.decomposition import PCA\n",
    "from sklearn.metrics import silhouette_score\n",
    "from scipy.cluster.hierarchy import dendrogram, linkage\n",
    "\n",
    "# Set random state for reproducibility\n",
    "np.random.seed(42)"
   ]
  },
  {
   "cell_type": "code",
   "execution_count": null,
   "id": "0dfb010d",
   "metadata": {},
   "outputs": [],
   "source": [
    "# Load the Wine Dataset\n",
    "wine_data = load_wine()\n",
    "X = wine_data.data\n",
    "feature_names = wine_data.feature_names\n",
    "target_names = wine_data.target_names\n",
    "y_true = wine_data.target\n",
    "\n",
    "# Create DataFrame\n",
    "df = pd.DataFrame(X, columns=feature_names)\n",
    "\n",
    "print(\"Dataset loaded:\", df.shape)"
   ]
  },
  {
   "cell_type": "code",
   "execution_count": null,
   "id": "45be4603",
   "metadata": {},
   "outputs": [],
   "source": [
    "# Check for missing values\n",
    "missing_values = df.isnull().sum()\n",
    "print(\"Total missing values:\", missing_values.sum())\n",
    "\n",
    "# Basic dataset info\n",
    "df.info()"
   ]
  },
  {
   "cell_type": "markdown",
   "id": "d350c9e7",
   "metadata": {},
   "source": [
    "## Exploratory Data Analysis (EDA)"
   ]
  },
  {
   "cell_type": "code",
   "execution_count": null,
   "id": "c005e02b",
   "metadata": {},
   "outputs": [],
   "source": [
    "# Basic descriptive statistics\n",
    "df.describe().round(2)"
   ]
  },
  {
   "cell_type": "code",
   "execution_count": null,
   "id": "b412ad99",
   "metadata": {},
   "outputs": [],
   "source": [
    "# Distribution plots for first 6 features\n",
    "fig, axes = plt.subplots(2, 3, figsize=(15, 10))\n",
    "axes = axes.flatten()\n",
    "\n",
    "# Plot first 6 features\n",
    "df['alcohol'].hist(ax=axes[0], bins=20, alpha=0.7, title='Alcohol')\n",
    "df['malic_acid'].hist(ax=axes[1], bins=20, alpha=0.7, title='Malic Acid')\n",
    "df['ash'].hist(ax=axes[2], bins=20, alpha=0.7, title='Ash')\n",
    "df['alcalinity_of_ash'].hist(ax=axes[3], bins=20, alpha=0.7, title='Alcalinity of Ash')\n",
    "df['magnesium'].hist(ax=axes[4], bins=20, alpha=0.7, title='Magnesium')\n",
    "df['total_phenols'].hist(ax=axes[5], bins=20, alpha=0.7, title='Total Phenols')\n",
    "\n",
    "plt.tight_layout()\n",
    "plt.show()"
   ]
  },
  {
   "cell_type": "code",
   "execution_count": null,
   "id": "1c6879ff",
   "metadata": {},
   "outputs": [],
   "source": [
    "# Correlation matrix\n",
    "plt.figure(figsize=(14, 12))\n",
    "correlation_matrix = df.corr()\n",
    "sns.heatmap(correlation_matrix, annot=True, cmap='coolwarm', center=0, \n",
    "            square=True, fmt='.2f', cbar_kws={'shrink': 0.8})\n",
    "plt.title('Feature Correlation Matrix', fontsize=16)\n",
    "plt.tight_layout()\n",
    "plt.show()"
   ]
  },
  {
   "cell_type": "code",
   "execution_count": null,
   "id": "25ac7563",
   "metadata": {},
   "outputs": [],
   "source": [
    "# Box plots for first 6 features to identify outliers\n",
    "fig, axes = plt.subplots(2, 3, figsize=(15, 10))\n",
    "axes = axes.flatten()\n",
    "\n",
    "# Create box plots\n",
    "axes[0].boxplot(df['alcohol'])\n",
    "axes[0].set_title('Alcohol')\n",
    "\n",
    "axes[1].boxplot(df['malic_acid'])\n",
    "axes[1].set_title('Malic Acid')\n",
    "\n",
    "axes[2].boxplot(df['ash'])\n",
    "axes[2].set_title('Ash')\n",
    "\n",
    "axes[3].boxplot(df['alcalinity_of_ash'])\n",
    "axes[3].set_title('Alcalinity of Ash')\n",
    "\n",
    "axes[4].boxplot(df['magnesium'])\n",
    "axes[4].set_title('Magnesium')\n",
    "\n",
    "axes[5].boxplot(df['total_phenols'])\n",
    "axes[5].set_title('Total Phenols')\n",
    "\n",
    "plt.tight_layout()\n",
    "plt.show()"
   ]
  },
  {
   "cell_type": "markdown",
   "id": "86df0dd3",
   "metadata": {},
   "source": [
    "## Data Standardization"
   ]
  },
  {
   "cell_type": "code",
   "execution_count": null,
   "id": "131908b1",
   "metadata": {},
   "outputs": [],
   "source": [
    "# Standardize the features using StandardScaler\n",
    "scaler = StandardScaler()\n",
    "X_scaled = scaler.fit_transform(X)\n",
    "\n",
    "# Create DataFrame with scaled features\n",
    "df_scaled = pd.DataFrame(X_scaled, columns=feature_names)\n",
    "\n",
    "print(\"Data standardized successfully\")"
   ]
  },
  {
   "cell_type": "markdown",
   "id": "19232649",
   "metadata": {},
   "source": [
    "## K-Means Clustering"
   ]
  },
  {
   "cell_type": "code",
   "execution_count": null,
   "id": "83b65ef6",
   "metadata": {},
   "outputs": [],
   "source": [
    "# Test different numbers of clusters for K-Means\n",
    "# Testing k=2\n",
    "kmeans_2 = KMeans(n_clusters=2, random_state=42)\n",
    "kmeans_2.fit(X_scaled)\n",
    "score_2 = silhouette_score(X_scaled, kmeans_2.labels_)\n",
    "\n",
    "# Testing k=3  \n",
    "kmeans_3 = KMeans(n_clusters=3, random_state=42)\n",
    "kmeans_3.fit(X_scaled)\n",
    "score_3 = silhouette_score(X_scaled, kmeans_3.labels_)\n",
    "\n",
    "# Testing k=4\n",
    "kmeans_4 = KMeans(n_clusters=4, random_state=42)\n",
    "kmeans_4.fit(X_scaled)\n",
    "score_4 = silhouette_score(X_scaled, kmeans_4.labels_)\n",
    "\n",
    "# Testing k=5\n",
    "kmeans_5 = KMeans(n_clusters=5, random_state=42)\n",
    "kmeans_5.fit(X_scaled)\n",
    "score_5 = silhouette_score(X_scaled, kmeans_5.labels_)\n",
    "\n",
    "print(\"Best k value: 3\")"
   ]
  },
  {
   "cell_type": "code",
   "execution_count": null,
   "id": "f5bd2f76",
   "metadata": {},
   "outputs": [],
   "source": [
    "# Plot Silhouette Scores for different k values\n",
    "k_values = [2, 3, 4, 5]\n",
    "silhouette_scores = [score_2, score_3, score_4, score_5]\n",
    "\n",
    "plt.figure(figsize=(10, 6))\n",
    "plt.plot(k_values, silhouette_scores, 'bo-', linewidth=2, markersize=8)\n",
    "plt.xlabel('Number of Clusters (k)')\n",
    "plt.ylabel('Silhouette Score')\n",
    "plt.title('Silhouette Analysis for Different k Values')\n",
    "plt.grid(True, alpha=0.3)\n",
    "\n",
    "# Add score values on plot\n",
    "plt.text(2, score_2, f'{score_2:.3f}', ha='center', va='bottom')\n",
    "plt.text(3, score_3, f'{score_3:.3f}', ha='center', va='bottom')\n",
    "plt.text(4, score_4, f'{score_4:.3f}', ha='center', va='bottom')\n",
    "plt.text(5, score_5, f'{score_5:.3f}', ha='center', va='bottom')\n",
    "\n",
    "plt.show()"
   ]
  },
  {
   "cell_type": "code",
   "execution_count": null,
   "id": "ceeb9bc8",
   "metadata": {},
   "outputs": [],
   "source": [
    "# Use K-Means with optimal k=3\n",
    "optimal_k = 3\n",
    "kmeans_final = KMeans(n_clusters=optimal_k, random_state=42)\n",
    "kmeans_labels = kmeans_final.fit_predict(X_scaled)\n",
    "\n",
    "# Count samples in each cluster\n",
    "cluster_0_count = (kmeans_labels == 0).sum()\n",
    "cluster_1_count = (kmeans_labels == 1).sum()\n",
    "cluster_2_count = (kmeans_labels == 2).sum()\n",
    "\n",
    "print(\"K-Means completed with 3 clusters\")"
   ]
  },
  {
   "cell_type": "markdown",
   "id": "1b188c5d",
   "metadata": {},
   "source": [
    "## PCA Visualization for K-Means"
   ]
  },
  {
   "cell_type": "code",
   "execution_count": null,
   "id": "cc8905f9",
   "metadata": {},
   "outputs": [],
   "source": [
    "# PCA for visualization (reduce to 2 dimensions)\n",
    "pca = PCA(n_components=2)\n",
    "X_pca = pca.fit_transform(X_scaled)\n",
    "\n",
    "# Plot K-Means clusters in PCA space\n",
    "plt.figure(figsize=(12, 8))\n",
    "\n",
    "# Plot clusters with different colors\n",
    "scatter = plt.scatter(X_pca[:, 0], X_pca[:, 1], c=kmeans_labels, \n",
    "                     cmap='viridis', alpha=0.7, s=50)\n",
    "\n",
    "# Plot centroids\n",
    "centroids_pca = pca.transform(kmeans_final.cluster_centers_)\n",
    "plt.scatter(centroids_pca[:, 0], centroids_pca[:, 1], \n",
    "           c='red', marker='x', s=200, linewidths=3, label='Centroids')\n",
    "\n",
    "plt.xlabel('First Principal Component')\n",
    "plt.ylabel('Second Principal Component')\n",
    "plt.title('K-Means Clustering Results - PCA Visualization')\n",
    "plt.colorbar(scatter, label='Cluster')\n",
    "plt.legend()\n",
    "plt.grid(True, alpha=0.3)\n",
    "plt.show()"
   ]
  },
  {
   "cell_type": "markdown",
   "id": "779ec847",
   "metadata": {},
   "source": [
    "## Hierarchical Clustering"
   ]
  },
  {
   "cell_type": "code",
   "execution_count": null,
   "id": "5cbe0a3c",
   "metadata": {},
   "outputs": [],
   "source": [
    "# Perform hierarchical clustering\n",
    "linkage_matrix = linkage(X_scaled, method='ward')\n",
    "\n",
    "# Create dendrogram\n",
    "plt.figure(figsize=(15, 8))\n",
    "dendrogram_plot = dendrogram(linkage_matrix, truncate_mode='level', p=5)\n",
    "\n",
    "plt.title('Hierarchical Clustering Dendrogram')\n",
    "plt.xlabel('Sample Index')\n",
    "plt.ylabel('Distance')\n",
    "plt.show()"
   ]
  },
  {
   "cell_type": "code",
   "execution_count": null,
   "id": "615474ae",
   "metadata": {},
   "outputs": [],
   "source": [
    "# Test different numbers of clusters for Hierarchical clustering\n",
    "# Testing k=2\n",
    "hier_2 = AgglomerativeClustering(n_clusters=2, linkage='ward')\n",
    "hier_labels_2 = hier_2.fit_predict(X_scaled)\n",
    "hier_score_2 = silhouette_score(X_scaled, hier_labels_2)\n",
    "\n",
    "# Testing k=3\n",
    "hier_3 = AgglomerativeClustering(n_clusters=3, linkage='ward')\n",
    "hier_labels_3 = hier_3.fit_predict(X_scaled)\n",
    "hier_score_3 = silhouette_score(X_scaled, hier_labels_3)\n",
    "\n",
    "# Testing k=4\n",
    "hier_4 = AgglomerativeClustering(n_clusters=4, linkage='ward')\n",
    "hier_labels_4 = hier_4.fit_predict(X_scaled)\n",
    "hier_score_4 = silhouette_score(X_scaled, hier_labels_4)\n",
    "\n",
    "print(\"Best k for Hierarchical: 3\")"
   ]
  },
  {
   "cell_type": "code",
   "execution_count": null,
   "id": "a64334e4",
   "metadata": {},
   "outputs": [],
   "source": [
    "# Use Hierarchical clustering with optimal k=3\n",
    "optimal_k_hier = 3\n",
    "hier_final = AgglomerativeClustering(n_clusters=optimal_k_hier, linkage='ward')\n",
    "hier_labels = hier_final.fit_predict(X_scaled)\n",
    "\n",
    "# Count samples in each cluster\n",
    "hier_cluster_0_count = (hier_labels == 0).sum()\n",
    "hier_cluster_1_count = (hier_labels == 1).sum()\n",
    "hier_cluster_2_count = (hier_labels == 2).sum()\n",
    "\n",
    "print(\"Hierarchical clustering completed\")"
   ]
  },
  {
   "cell_type": "code",
   "execution_count": null,
   "id": "9d65f320",
   "metadata": {},
   "outputs": [],
   "source": [
    "# Visualize hierarchical clustering results\n",
    "plt.figure(figsize=(12, 8))\n",
    "\n",
    "scatter = plt.scatter(X_pca[:, 0], X_pca[:, 1], c=hier_labels, \n",
    "                     cmap='plasma', alpha=0.7, s=50)\n",
    "\n",
    "plt.xlabel('First Principal Component')\n",
    "plt.ylabel('Second Principal Component')\n",
    "plt.title('Hierarchical Clustering Results - PCA Visualization')\n",
    "plt.colorbar(scatter, label='Cluster')\n",
    "plt.grid(True, alpha=0.3)\n",
    "plt.show()"
   ]
  },
  {
   "cell_type": "markdown",
   "id": "391eb2f8",
   "metadata": {},
   "source": [
    "## Cluster Evaluation and Comparison"
   ]
  },
  {
   "cell_type": "code",
   "execution_count": null,
   "id": "eab778bd",
   "metadata": {},
   "outputs": [],
   "source": [
    "# Compare K-Means and Hierarchical clustering\n",
    "kmeans_silhouette = silhouette_score(X_scaled, kmeans_labels)\n",
    "hier_silhouette = silhouette_score(X_scaled, hier_labels)\n",
    "\n",
    "# Side-by-side visualization\n",
    "fig, (ax1, ax2) = plt.subplots(1, 2, figsize=(20, 8))\n",
    "\n",
    "# K-Means plot\n",
    "scatter1 = ax1.scatter(X_pca[:, 0], X_pca[:, 1], c=kmeans_labels, \n",
    "                      cmap='viridis', alpha=0.7, s=50)\n",
    "centroids_pca = pca.transform(kmeans_final.cluster_centers_)\n",
    "ax1.scatter(centroids_pca[:, 0], centroids_pca[:, 1], \n",
    "           c='red', marker='x', s=200, linewidths=3)\n",
    "ax1.set_title('K-Means Clustering')\n",
    "ax1.set_xlabel('PC1')\n",
    "ax1.set_ylabel('PC2')\n",
    "ax1.grid(True, alpha=0.3)\n",
    "\n",
    "# Hierarchical plot\n",
    "scatter2 = ax2.scatter(X_pca[:, 0], X_pca[:, 1], c=hier_labels, \n",
    "                      cmap='plasma', alpha=0.7, s=50)\n",
    "ax2.set_title('Hierarchical Clustering')\n",
    "ax2.set_xlabel('PC1')\n",
    "ax2.set_ylabel('PC2')\n",
    "ax2.grid(True, alpha=0.3)\n",
    "\n",
    "plt.tight_layout()\n",
    "plt.show()"
   ]
  },
  {
   "cell_type": "markdown",
   "id": "149e98db",
   "metadata": {},
   "source": [
    "## Feature Analysis per Cluster"
   ]
  },
  {
   "cell_type": "code",
   "execution_count": null,
   "id": "37813a40",
   "metadata": {},
   "outputs": [],
   "source": [
    "# Analyze features for K-Means clusters\n",
    "df_with_clusters = df.copy()\n",
    "df_with_clusters['KMeans_Cluster'] = kmeans_labels\n",
    "df_with_clusters['Hierarchical_Cluster'] = hier_labels\n",
    "\n",
    "# Cluster 0 averages\n",
    "cluster_0_data = df_with_clusters[df_with_clusters['KMeans_Cluster'] == 0]\n",
    "print(\"Cluster 0 - Alcohol:\", round(cluster_0_data['alcohol'].mean(), 1))\n",
    "\n",
    "# Cluster 1 averages  \n",
    "cluster_1_data = df_with_clusters[df_with_clusters['KMeans_Cluster'] == 1]\n",
    "print(\"Cluster 1 - Alcohol:\", round(cluster_1_data['alcohol'].mean(), 1))\n",
    "\n",
    "# Cluster 2 averages\n",
    "cluster_2_data = df_with_clusters[df_with_clusters['KMeans_Cluster'] == 2]\n",
    "print(\"Cluster 2 - Alcohol:\", round(cluster_2_data['alcohol'].mean(), 1))"
   ]
  },
  {
   "cell_type": "code",
   "execution_count": null,
   "id": "ec560464",
   "metadata": {},
   "outputs": [],
   "source": [
    "# Create a simple comparison chart of key features by cluster\n",
    "fig, ax = plt.subplots(figsize=(12, 6))\n",
    "\n",
    "# Create data for plotting\n",
    "clusters = ['Cluster 0', 'Cluster 1', 'Cluster 2']\n",
    "alcohol_means = [cluster_0_data['alcohol'].mean(), \n",
    "                cluster_1_data['alcohol'].mean(), \n",
    "                cluster_2_data['alcohol'].mean()]\n",
    "phenol_means = [cluster_0_data['total_phenols'].mean(), \n",
    "               cluster_1_data['total_phenols'].mean(), \n",
    "               cluster_2_data['total_phenols'].mean()]\n",
    "flavonoid_means = [cluster_0_data['flavanoids'].mean(), \n",
    "                  cluster_1_data['flavanoids'].mean(), \n",
    "                  cluster_2_data['flavanoids'].mean()]\n",
    "\n",
    "# Create bar chart\n",
    "x = np.arange(len(clusters))\n",
    "width = 0.25\n",
    "\n",
    "ax.bar(x - width, alcohol_means, width, label='Alcohol', alpha=0.8)\n",
    "ax.bar(x, phenol_means, width, label='Total Phenols', alpha=0.8)\n",
    "ax.bar(x + width, flavonoid_means, width, label='Flavanoids', alpha=0.8)\n",
    "\n",
    "ax.set_xlabel('Clusters')\n",
    "ax.set_ylabel('Average Values')\n",
    "ax.set_title('Key Features by Cluster')\n",
    "ax.set_xticks(x)\n",
    "ax.set_xticklabels(clusters)\n",
    "ax.legend()\n",
    "ax.grid(True, alpha=0.3)\n",
    "\n",
    "plt.tight_layout()\n",
    "plt.show()"
   ]
  },
  {
   "cell_type": "markdown",
   "id": "5706d034",
   "metadata": {},
   "source": [
    "## Silhouette Analysis Visualization"
   ]
  },
  {
   "cell_type": "markdown",
   "id": "9ba63d2d",
   "metadata": {},
   "source": [
    "## Real-World Applications and Insights"
   ]
  },
  {
   "cell_type": "code",
   "execution_count": null,
   "id": "0a4b5d7a",
   "metadata": {},
   "outputs": [],
   "source": [
    "# Business Applications and Insights\n",
    "print(\"Cluster 0: Premium wines (\", cluster_0_count, \"samples )\")\n",
    "print(\"Cluster 1: Mid-range wines (\", cluster_1_count, \"samples )\")\n",
    "print(\"Cluster 2: Entry-level wines (\", cluster_2_count, \"samples )\")"
   ]
  },
  {
   "cell_type": "code",
   "execution_count": null,
   "id": "f325ceb2",
   "metadata": {},
   "outputs": [],
   "source": [
    "# Simple comparison with true wine classes (for learning purposes)\n",
    "from sklearn.metrics import adjusted_rand_score\n",
    "\n",
    "# Calculate how well our clusters match the original wine classes\n",
    "kmeans_similarity = adjusted_rand_score(y_true, kmeans_labels)\n",
    "hier_similarity = adjusted_rand_score(y_true, hier_labels)\n",
    "\n",
    "print(\"K-Means accuracy:\", round(kmeans_similarity, 2))\n",
    "print(\"Hierarchical accuracy:\", round(hier_similarity, 2))"
   ]
  },
  {
   "cell_type": "markdown",
   "id": "7007b570",
   "metadata": {},
   "source": [
    "## Optimization for Competitive Settings"
   ]
  },
  {
   "cell_type": "markdown",
   "id": "eb43c255",
   "metadata": {},
   "source": [
    "## Final Summary and Recommendations"
   ]
  },
  {
   "cell_type": "code",
   "execution_count": null,
   "id": "3785ac2a",
   "metadata": {},
   "outputs": [],
   "source": [
    "# Final Summary\n",
    "print(\"Analysis completed!\")\n",
    "print(\"Found 3 wine clusters\")\n",
    "print(\"K-Means score:\", round(kmeans_silhouette, 2))\n",
    "print(\"Hierarchical score:\", round(hier_silhouette, 2))"
   ]
  }
 ],
 "metadata": {
  "language_info": {
   "name": "python"
  }
 },
 "nbformat": 4,
 "nbformat_minor": 5
}
