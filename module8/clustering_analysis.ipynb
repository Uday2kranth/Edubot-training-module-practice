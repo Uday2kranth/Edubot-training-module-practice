{
 "cells": [
  {
   "cell_type": "markdown",
   "id": "25e8ac80",
   "metadata": {},
   "source": [
    "## Data Preparation"
   ]
  },
  {
   "cell_type": "code",
   "execution_count": 1,
   "id": "92fff212",
   "metadata": {},
   "outputs": [],
   "source": [
    "# Import Required Libraries\n",
    "import numpy as np\n",
    "import pandas as pd\n",
    "import matplotlib.pyplot as plt\n",
    "import seaborn as sns\n",
    "from sklearn.datasets import load_wine\n",
    "from sklearn.preprocessing import StandardScaler\n",
    "from sklearn.cluster import KMeans, AgglomerativeClustering\n",
    "from sklearn.decomposition import PCA\n",
    "from sklearn.metrics import silhouette_score\n",
    "from scipy.cluster.hierarchy import dendrogram, linkage\n",
    "\n",
    "# Set random state for reproducibility\n",
    "np.random.seed(42)"
   ]
  },
  {
   "cell_type": "code",
   "execution_count": 2,
   "id": "0dfb010d",
   "metadata": {},
   "outputs": [
    {
     "name": "stdout",
     "output_type": "stream",
     "text": [
      "Dataset loaded: (178, 13)\n"
     ]
    }
   ],
   "source": [
    "# Load the Wine Dataset\n",
    "wine_data = load_wine()\n",
    "X = wine_data.data\n",
    "feature_names = wine_data.feature_names\n",
    "target_names = wine_data.target_names\n",
    "y_true = wine_data.target\n",
    "\n",
    "# Create DataFrame\n",
    "df = pd.DataFrame(X, columns=feature_names)\n",
    "\n",
    "print(\"Dataset loaded:\", df.shape)"
   ]
  },
  {
   "cell_type": "code",
   "execution_count": 3,
   "id": "45be4603",
   "metadata": {},
   "outputs": [
    {
     "name": "stdout",
     "output_type": "stream",
     "text": [
      "Total missing values: 0\n",
      "<class 'pandas.core.frame.DataFrame'>\n",
      "RangeIndex: 178 entries, 0 to 177\n",
      "Data columns (total 13 columns):\n",
      " #   Column                        Non-Null Count  Dtype  \n",
      "---  ------                        --------------  -----  \n",
      " 0   alcohol                       178 non-null    float64\n",
      " 1   malic_acid                    178 non-null    float64\n",
      " 2   ash                           178 non-null    float64\n",
      " 3   alcalinity_of_ash             178 non-null    float64\n",
      " 4   magnesium                     178 non-null    float64\n",
      " 5   total_phenols                 178 non-null    float64\n",
      " 6   flavanoids                    178 non-null    float64\n",
      " 7   nonflavanoid_phenols          178 non-null    float64\n",
      " 8   proanthocyanins               178 non-null    float64\n",
      " 9   color_intensity               178 non-null    float64\n",
      " 10  hue                           178 non-null    float64\n",
      " 11  od280/od315_of_diluted_wines  178 non-null    float64\n",
      " 12  proline                       178 non-null    float64\n",
      "dtypes: float64(13)\n",
      "memory usage: 18.2 KB\n"
     ]
    }
   ],
   "source": [
    "# Check for missing values\n",
    "missing_values = df.isnull().sum()\n",
    "print(\"Total missing values:\", missing_values.sum())\n",
    "\n",
    "# Basic dataset info\n",
    "df.info()"
   ]
  },
  {
   "cell_type": "markdown",
   "id": "d350c9e7",
   "metadata": {},
   "source": [
    "## Exploratory Data Analysis (EDA)"
   ]
  },
  {
   "cell_type": "code",
   "execution_count": 4,
   "id": "c005e02b",
   "metadata": {},
   "outputs": [
    {
     "data": {
      "text/html": [
       "<div>\n",
       "<style scoped>\n",
       "    .dataframe tbody tr th:only-of-type {\n",
       "        vertical-align: middle;\n",
       "    }\n",
       "\n",
       "    .dataframe tbody tr th {\n",
       "        vertical-align: top;\n",
       "    }\n",
       "\n",
       "    .dataframe thead th {\n",
       "        text-align: right;\n",
       "    }\n",
       "</style>\n",
       "<table border=\"1\" class=\"dataframe\">\n",
       "  <thead>\n",
       "    <tr style=\"text-align: right;\">\n",
       "      <th></th>\n",
       "      <th>alcohol</th>\n",
       "      <th>malic_acid</th>\n",
       "      <th>ash</th>\n",
       "      <th>alcalinity_of_ash</th>\n",
       "      <th>magnesium</th>\n",
       "      <th>total_phenols</th>\n",
       "      <th>flavanoids</th>\n",
       "      <th>nonflavanoid_phenols</th>\n",
       "      <th>proanthocyanins</th>\n",
       "      <th>color_intensity</th>\n",
       "      <th>hue</th>\n",
       "      <th>od280/od315_of_diluted_wines</th>\n",
       "      <th>proline</th>\n",
       "    </tr>\n",
       "  </thead>\n",
       "  <tbody>\n",
       "    <tr>\n",
       "      <th>count</th>\n",
       "      <td>178.00</td>\n",
       "      <td>178.00</td>\n",
       "      <td>178.00</td>\n",
       "      <td>178.00</td>\n",
       "      <td>178.00</td>\n",
       "      <td>178.00</td>\n",
       "      <td>178.00</td>\n",
       "      <td>178.00</td>\n",
       "      <td>178.00</td>\n",
       "      <td>178.00</td>\n",
       "      <td>178.00</td>\n",
       "      <td>178.00</td>\n",
       "      <td>178.00</td>\n",
       "    </tr>\n",
       "    <tr>\n",
       "      <th>mean</th>\n",
       "      <td>13.00</td>\n",
       "      <td>2.34</td>\n",
       "      <td>2.37</td>\n",
       "      <td>19.49</td>\n",
       "      <td>99.74</td>\n",
       "      <td>2.30</td>\n",
       "      <td>2.03</td>\n",
       "      <td>0.36</td>\n",
       "      <td>1.59</td>\n",
       "      <td>5.06</td>\n",
       "      <td>0.96</td>\n",
       "      <td>2.61</td>\n",
       "      <td>746.89</td>\n",
       "    </tr>\n",
       "    <tr>\n",
       "      <th>std</th>\n",
       "      <td>0.81</td>\n",
       "      <td>1.12</td>\n",
       "      <td>0.27</td>\n",
       "      <td>3.34</td>\n",
       "      <td>14.28</td>\n",
       "      <td>0.63</td>\n",
       "      <td>1.00</td>\n",
       "      <td>0.12</td>\n",
       "      <td>0.57</td>\n",
       "      <td>2.32</td>\n",
       "      <td>0.23</td>\n",
       "      <td>0.71</td>\n",
       "      <td>314.91</td>\n",
       "    </tr>\n",
       "    <tr>\n",
       "      <th>min</th>\n",
       "      <td>11.03</td>\n",
       "      <td>0.74</td>\n",
       "      <td>1.36</td>\n",
       "      <td>10.60</td>\n",
       "      <td>70.00</td>\n",
       "      <td>0.98</td>\n",
       "      <td>0.34</td>\n",
       "      <td>0.13</td>\n",
       "      <td>0.41</td>\n",
       "      <td>1.28</td>\n",
       "      <td>0.48</td>\n",
       "      <td>1.27</td>\n",
       "      <td>278.00</td>\n",
       "    </tr>\n",
       "    <tr>\n",
       "      <th>25%</th>\n",
       "      <td>12.36</td>\n",
       "      <td>1.60</td>\n",
       "      <td>2.21</td>\n",
       "      <td>17.20</td>\n",
       "      <td>88.00</td>\n",
       "      <td>1.74</td>\n",
       "      <td>1.20</td>\n",
       "      <td>0.27</td>\n",
       "      <td>1.25</td>\n",
       "      <td>3.22</td>\n",
       "      <td>0.78</td>\n",
       "      <td>1.94</td>\n",
       "      <td>500.50</td>\n",
       "    </tr>\n",
       "    <tr>\n",
       "      <th>50%</th>\n",
       "      <td>13.05</td>\n",
       "      <td>1.87</td>\n",
       "      <td>2.36</td>\n",
       "      <td>19.50</td>\n",
       "      <td>98.00</td>\n",
       "      <td>2.36</td>\n",
       "      <td>2.13</td>\n",
       "      <td>0.34</td>\n",
       "      <td>1.56</td>\n",
       "      <td>4.69</td>\n",
       "      <td>0.96</td>\n",
       "      <td>2.78</td>\n",
       "      <td>673.50</td>\n",
       "    </tr>\n",
       "    <tr>\n",
       "      <th>75%</th>\n",
       "      <td>13.68</td>\n",
       "      <td>3.08</td>\n",
       "      <td>2.56</td>\n",
       "      <td>21.50</td>\n",
       "      <td>107.00</td>\n",
       "      <td>2.80</td>\n",
       "      <td>2.88</td>\n",
       "      <td>0.44</td>\n",
       "      <td>1.95</td>\n",
       "      <td>6.20</td>\n",
       "      <td>1.12</td>\n",
       "      <td>3.17</td>\n",
       "      <td>985.00</td>\n",
       "    </tr>\n",
       "    <tr>\n",
       "      <th>max</th>\n",
       "      <td>14.83</td>\n",
       "      <td>5.80</td>\n",
       "      <td>3.23</td>\n",
       "      <td>30.00</td>\n",
       "      <td>162.00</td>\n",
       "      <td>3.88</td>\n",
       "      <td>5.08</td>\n",
       "      <td>0.66</td>\n",
       "      <td>3.58</td>\n",
       "      <td>13.00</td>\n",
       "      <td>1.71</td>\n",
       "      <td>4.00</td>\n",
       "      <td>1680.00</td>\n",
       "    </tr>\n",
       "  </tbody>\n",
       "</table>\n",
       "</div>"
      ],
      "text/plain": [
       "       alcohol  malic_acid     ash  alcalinity_of_ash  magnesium  \\\n",
       "count   178.00      178.00  178.00             178.00     178.00   \n",
       "mean     13.00        2.34    2.37              19.49      99.74   \n",
       "std       0.81        1.12    0.27               3.34      14.28   \n",
       "min      11.03        0.74    1.36              10.60      70.00   \n",
       "25%      12.36        1.60    2.21              17.20      88.00   \n",
       "50%      13.05        1.87    2.36              19.50      98.00   \n",
       "75%      13.68        3.08    2.56              21.50     107.00   \n",
       "max      14.83        5.80    3.23              30.00     162.00   \n",
       "\n",
       "       total_phenols  flavanoids  nonflavanoid_phenols  proanthocyanins  \\\n",
       "count         178.00      178.00                178.00           178.00   \n",
       "mean            2.30        2.03                  0.36             1.59   \n",
       "std             0.63        1.00                  0.12             0.57   \n",
       "min             0.98        0.34                  0.13             0.41   \n",
       "25%             1.74        1.20                  0.27             1.25   \n",
       "50%             2.36        2.13                  0.34             1.56   \n",
       "75%             2.80        2.88                  0.44             1.95   \n",
       "max             3.88        5.08                  0.66             3.58   \n",
       "\n",
       "       color_intensity     hue  od280/od315_of_diluted_wines  proline  \n",
       "count           178.00  178.00                        178.00   178.00  \n",
       "mean              5.06    0.96                          2.61   746.89  \n",
       "std               2.32    0.23                          0.71   314.91  \n",
       "min               1.28    0.48                          1.27   278.00  \n",
       "25%               3.22    0.78                          1.94   500.50  \n",
       "50%               4.69    0.96                          2.78   673.50  \n",
       "75%               6.20    1.12                          3.17   985.00  \n",
       "max              13.00    1.71                          4.00  1680.00  "
      ]
     },
     "execution_count": 4,
     "metadata": {},
     "output_type": "execute_result"
    }
   ],
   "source": [
    "# Basic descriptive statistics\n",
    "df.describe().round(2)"
   ]
  },
  {
   "cell_type": "code",
   "execution_count": 5,
   "id": "b412ad99",
   "metadata": {},
   "outputs": [
    {
     "ename": "AttributeError",
     "evalue": "Rectangle.set() got an unexpected keyword argument 'title'",
     "output_type": "error",
     "traceback": [
      "\u001b[31m---------------------------------------------------------------------------\u001b[39m",
      "\u001b[31mAttributeError\u001b[39m                            Traceback (most recent call last)",
      "\u001b[36mCell\u001b[39m\u001b[36m \u001b[39m\u001b[32mIn[5]\u001b[39m\u001b[32m, line 6\u001b[39m\n\u001b[32m      3\u001b[39m axes = axes.flatten()\n\u001b[32m      5\u001b[39m \u001b[38;5;66;03m# Plot first 6 features\u001b[39;00m\n\u001b[32m----> \u001b[39m\u001b[32m6\u001b[39m \u001b[43mdf\u001b[49m\u001b[43m[\u001b[49m\u001b[33;43m'\u001b[39;49m\u001b[33;43malcohol\u001b[39;49m\u001b[33;43m'\u001b[39;49m\u001b[43m]\u001b[49m\u001b[43m.\u001b[49m\u001b[43mhist\u001b[49m\u001b[43m(\u001b[49m\u001b[43max\u001b[49m\u001b[43m=\u001b[49m\u001b[43maxes\u001b[49m\u001b[43m[\u001b[49m\u001b[32;43m0\u001b[39;49m\u001b[43m]\u001b[49m\u001b[43m,\u001b[49m\u001b[43m \u001b[49m\u001b[43mbins\u001b[49m\u001b[43m=\u001b[49m\u001b[32;43m20\u001b[39;49m\u001b[43m,\u001b[49m\u001b[43m \u001b[49m\u001b[43malpha\u001b[49m\u001b[43m=\u001b[49m\u001b[32;43m0.7\u001b[39;49m\u001b[43m,\u001b[49m\u001b[43m \u001b[49m\u001b[43mtitle\u001b[49m\u001b[43m=\u001b[49m\u001b[33;43m'\u001b[39;49m\u001b[33;43mAlcohol\u001b[39;49m\u001b[33;43m'\u001b[39;49m\u001b[43m)\u001b[49m\n\u001b[32m      7\u001b[39m df[\u001b[33m'\u001b[39m\u001b[33mmalic_acid\u001b[39m\u001b[33m'\u001b[39m].hist(ax=axes[\u001b[32m1\u001b[39m], bins=\u001b[32m20\u001b[39m, alpha=\u001b[32m0.7\u001b[39m, title=\u001b[33m'\u001b[39m\u001b[33mMalic Acid\u001b[39m\u001b[33m'\u001b[39m)\n\u001b[32m      8\u001b[39m df[\u001b[33m'\u001b[39m\u001b[33mash\u001b[39m\u001b[33m'\u001b[39m].hist(ax=axes[\u001b[32m2\u001b[39m], bins=\u001b[32m20\u001b[39m, alpha=\u001b[32m0.7\u001b[39m, title=\u001b[33m'\u001b[39m\u001b[33mAsh\u001b[39m\u001b[33m'\u001b[39m)\n",
      "\u001b[36mFile \u001b[39m\u001b[32m~\\AppData\\Roaming\\Python\\Python312\\site-packages\\pandas\\plotting\\_core.py:129\u001b[39m, in \u001b[36mhist_series\u001b[39m\u001b[34m(self, by, ax, grid, xlabelsize, xrot, ylabelsize, yrot, figsize, bins, backend, legend, **kwargs)\u001b[39m\n\u001b[32m     62\u001b[39m \u001b[38;5;250m\u001b[39m\u001b[33;03m\"\"\"\u001b[39;00m\n\u001b[32m     63\u001b[39m \u001b[33;03mDraw histogram of the input series using matplotlib.\u001b[39;00m\n\u001b[32m     64\u001b[39m \n\u001b[32m   (...)\u001b[39m\u001b[32m    126\u001b[39m \u001b[33;03m    >>> hist = ser.groupby(level=0).hist()\u001b[39;00m\n\u001b[32m    127\u001b[39m \u001b[33;03m\"\"\"\u001b[39;00m\n\u001b[32m    128\u001b[39m plot_backend = _get_plot_backend(backend)\n\u001b[32m--> \u001b[39m\u001b[32m129\u001b[39m \u001b[38;5;28;01mreturn\u001b[39;00m \u001b[43mplot_backend\u001b[49m\u001b[43m.\u001b[49m\u001b[43mhist_series\u001b[49m\u001b[43m(\u001b[49m\n\u001b[32m    130\u001b[39m \u001b[43m    \u001b[49m\u001b[38;5;28;43mself\u001b[39;49m\u001b[43m,\u001b[49m\n\u001b[32m    131\u001b[39m \u001b[43m    \u001b[49m\u001b[43mby\u001b[49m\u001b[43m=\u001b[49m\u001b[43mby\u001b[49m\u001b[43m,\u001b[49m\n\u001b[32m    132\u001b[39m \u001b[43m    \u001b[49m\u001b[43max\u001b[49m\u001b[43m=\u001b[49m\u001b[43max\u001b[49m\u001b[43m,\u001b[49m\n\u001b[32m    133\u001b[39m \u001b[43m    \u001b[49m\u001b[43mgrid\u001b[49m\u001b[43m=\u001b[49m\u001b[43mgrid\u001b[49m\u001b[43m,\u001b[49m\n\u001b[32m    134\u001b[39m \u001b[43m    \u001b[49m\u001b[43mxlabelsize\u001b[49m\u001b[43m=\u001b[49m\u001b[43mxlabelsize\u001b[49m\u001b[43m,\u001b[49m\n\u001b[32m    135\u001b[39m \u001b[43m    \u001b[49m\u001b[43mxrot\u001b[49m\u001b[43m=\u001b[49m\u001b[43mxrot\u001b[49m\u001b[43m,\u001b[49m\n\u001b[32m    136\u001b[39m \u001b[43m    \u001b[49m\u001b[43mylabelsize\u001b[49m\u001b[43m=\u001b[49m\u001b[43mylabelsize\u001b[49m\u001b[43m,\u001b[49m\n\u001b[32m    137\u001b[39m \u001b[43m    \u001b[49m\u001b[43myrot\u001b[49m\u001b[43m=\u001b[49m\u001b[43myrot\u001b[49m\u001b[43m,\u001b[49m\n\u001b[32m    138\u001b[39m \u001b[43m    \u001b[49m\u001b[43mfigsize\u001b[49m\u001b[43m=\u001b[49m\u001b[43mfigsize\u001b[49m\u001b[43m,\u001b[49m\n\u001b[32m    139\u001b[39m \u001b[43m    \u001b[49m\u001b[43mbins\u001b[49m\u001b[43m=\u001b[49m\u001b[43mbins\u001b[49m\u001b[43m,\u001b[49m\n\u001b[32m    140\u001b[39m \u001b[43m    \u001b[49m\u001b[43mlegend\u001b[49m\u001b[43m=\u001b[49m\u001b[43mlegend\u001b[49m\u001b[43m,\u001b[49m\n\u001b[32m    141\u001b[39m \u001b[43m    \u001b[49m\u001b[43m*\u001b[49m\u001b[43m*\u001b[49m\u001b[43mkwargs\u001b[49m\u001b[43m,\u001b[49m\n\u001b[32m    142\u001b[39m \u001b[43m\u001b[49m\u001b[43m)\u001b[49m\n",
      "\u001b[36mFile \u001b[39m\u001b[32m~\\AppData\\Roaming\\Python\\Python312\\site-packages\\pandas\\plotting\\_matplotlib\\hist.py:454\u001b[39m, in \u001b[36mhist_series\u001b[39m\u001b[34m(self, by, ax, grid, xlabelsize, xrot, ylabelsize, yrot, figsize, bins, legend, **kwds)\u001b[39m\n\u001b[32m    452\u001b[39m \u001b[38;5;28;01mif\u001b[39;00m legend:\n\u001b[32m    453\u001b[39m     kwds[\u001b[33m\"\u001b[39m\u001b[33mlabel\u001b[39m\u001b[33m\"\u001b[39m] = \u001b[38;5;28mself\u001b[39m.name\n\u001b[32m--> \u001b[39m\u001b[32m454\u001b[39m \u001b[43max\u001b[49m\u001b[43m.\u001b[49m\u001b[43mhist\u001b[49m\u001b[43m(\u001b[49m\u001b[43mvalues\u001b[49m\u001b[43m,\u001b[49m\u001b[43m \u001b[49m\u001b[43mbins\u001b[49m\u001b[43m=\u001b[49m\u001b[43mbins\u001b[49m\u001b[43m,\u001b[49m\u001b[43m \u001b[49m\u001b[43m*\u001b[49m\u001b[43m*\u001b[49m\u001b[43mkwds\u001b[49m\u001b[43m)\u001b[49m\n\u001b[32m    455\u001b[39m \u001b[38;5;28;01mif\u001b[39;00m legend:\n\u001b[32m    456\u001b[39m     ax.legend()\n",
      "\u001b[36mFile \u001b[39m\u001b[32m~\\AppData\\Roaming\\Python\\Python312\\site-packages\\matplotlib\\_api\\deprecation.py:453\u001b[39m, in \u001b[36mmake_keyword_only.<locals>.wrapper\u001b[39m\u001b[34m(*args, **kwargs)\u001b[39m\n\u001b[32m    447\u001b[39m \u001b[38;5;28;01mif\u001b[39;00m \u001b[38;5;28mlen\u001b[39m(args) > name_idx:\n\u001b[32m    448\u001b[39m     warn_deprecated(\n\u001b[32m    449\u001b[39m         since, message=\u001b[33m\"\u001b[39m\u001b[33mPassing the \u001b[39m\u001b[38;5;132;01m%(name)s\u001b[39;00m\u001b[33m \u001b[39m\u001b[38;5;132;01m%(obj_type)s\u001b[39;00m\u001b[33m \u001b[39m\u001b[33m\"\u001b[39m\n\u001b[32m    450\u001b[39m         \u001b[33m\"\u001b[39m\u001b[33mpositionally is deprecated since Matplotlib \u001b[39m\u001b[38;5;132;01m%(since)s\u001b[39;00m\u001b[33m; the \u001b[39m\u001b[33m\"\u001b[39m\n\u001b[32m    451\u001b[39m         \u001b[33m\"\u001b[39m\u001b[33mparameter will become keyword-only in \u001b[39m\u001b[38;5;132;01m%(removal)s\u001b[39;00m\u001b[33m.\u001b[39m\u001b[33m\"\u001b[39m,\n\u001b[32m    452\u001b[39m         name=name, obj_type=\u001b[33mf\u001b[39m\u001b[33m\"\u001b[39m\u001b[33mparameter of \u001b[39m\u001b[38;5;132;01m{\u001b[39;00mfunc.\u001b[34m__name__\u001b[39m\u001b[38;5;132;01m}\u001b[39;00m\u001b[33m()\u001b[39m\u001b[33m\"\u001b[39m)\n\u001b[32m--> \u001b[39m\u001b[32m453\u001b[39m \u001b[38;5;28;01mreturn\u001b[39;00m \u001b[43mfunc\u001b[49m\u001b[43m(\u001b[49m\u001b[43m*\u001b[49m\u001b[43margs\u001b[49m\u001b[43m,\u001b[49m\u001b[43m \u001b[49m\u001b[43m*\u001b[49m\u001b[43m*\u001b[49m\u001b[43mkwargs\u001b[49m\u001b[43m)\u001b[49m\n",
      "\u001b[36mFile \u001b[39m\u001b[32m~\\AppData\\Roaming\\Python\\Python312\\site-packages\\matplotlib\\__init__.py:1521\u001b[39m, in \u001b[36m_preprocess_data.<locals>.inner\u001b[39m\u001b[34m(ax, data, *args, **kwargs)\u001b[39m\n\u001b[32m   1518\u001b[39m \u001b[38;5;129m@functools\u001b[39m.wraps(func)\n\u001b[32m   1519\u001b[39m \u001b[38;5;28;01mdef\u001b[39;00m\u001b[38;5;250m \u001b[39m\u001b[34minner\u001b[39m(ax, *args, data=\u001b[38;5;28;01mNone\u001b[39;00m, **kwargs):\n\u001b[32m   1520\u001b[39m     \u001b[38;5;28;01mif\u001b[39;00m data \u001b[38;5;129;01mis\u001b[39;00m \u001b[38;5;28;01mNone\u001b[39;00m:\n\u001b[32m-> \u001b[39m\u001b[32m1521\u001b[39m         \u001b[38;5;28;01mreturn\u001b[39;00m \u001b[43mfunc\u001b[49m\u001b[43m(\u001b[49m\n\u001b[32m   1522\u001b[39m \u001b[43m            \u001b[49m\u001b[43max\u001b[49m\u001b[43m,\u001b[49m\n\u001b[32m   1523\u001b[39m \u001b[43m            \u001b[49m\u001b[43m*\u001b[49m\u001b[38;5;28;43mmap\u001b[39;49m\u001b[43m(\u001b[49m\u001b[43mcbook\u001b[49m\u001b[43m.\u001b[49m\u001b[43msanitize_sequence\u001b[49m\u001b[43m,\u001b[49m\u001b[43m \u001b[49m\u001b[43margs\u001b[49m\u001b[43m)\u001b[49m\u001b[43m,\u001b[49m\n\u001b[32m   1524\u001b[39m \u001b[43m            \u001b[49m\u001b[43m*\u001b[49m\u001b[43m*\u001b[49m\u001b[43m{\u001b[49m\u001b[43mk\u001b[49m\u001b[43m:\u001b[49m\u001b[43m \u001b[49m\u001b[43mcbook\u001b[49m\u001b[43m.\u001b[49m\u001b[43msanitize_sequence\u001b[49m\u001b[43m(\u001b[49m\u001b[43mv\u001b[49m\u001b[43m)\u001b[49m\u001b[43m \u001b[49m\u001b[38;5;28;43;01mfor\u001b[39;49;00m\u001b[43m \u001b[49m\u001b[43mk\u001b[49m\u001b[43m,\u001b[49m\u001b[43m \u001b[49m\u001b[43mv\u001b[49m\u001b[43m \u001b[49m\u001b[38;5;129;43;01min\u001b[39;49;00m\u001b[43m \u001b[49m\u001b[43mkwargs\u001b[49m\u001b[43m.\u001b[49m\u001b[43mitems\u001b[49m\u001b[43m(\u001b[49m\u001b[43m)\u001b[49m\u001b[43m}\u001b[49m\u001b[43m)\u001b[49m\n\u001b[32m   1526\u001b[39m     bound = new_sig.bind(ax, *args, **kwargs)\n\u001b[32m   1527\u001b[39m     auto_label = (bound.arguments.get(label_namer)\n\u001b[32m   1528\u001b[39m                   \u001b[38;5;129;01mor\u001b[39;00m bound.kwargs.get(label_namer))\n",
      "\u001b[36mFile \u001b[39m\u001b[32m~\\AppData\\Roaming\\Python\\Python312\\site-packages\\matplotlib\\axes\\_axes.py:7266\u001b[39m, in \u001b[36mAxes.hist\u001b[39m\u001b[34m(self, x, bins, range, density, weights, cumulative, bottom, histtype, align, orientation, rwidth, log, color, label, stacked, **kwargs)\u001b[39m\n\u001b[32m   7258\u001b[39m p = patch[\u001b[32m0\u001b[39m]\n\u001b[32m   7259\u001b[39m kwargs.update({\n\u001b[32m   7260\u001b[39m     \u001b[33m'\u001b[39m\u001b[33mhatch\u001b[39m\u001b[33m'\u001b[39m: \u001b[38;5;28mnext\u001b[39m(hatches),\n\u001b[32m   7261\u001b[39m     \u001b[33m'\u001b[39m\u001b[33mlinewidth\u001b[39m\u001b[33m'\u001b[39m: \u001b[38;5;28mnext\u001b[39m(linewidths),\n\u001b[32m   (...)\u001b[39m\u001b[32m   7264\u001b[39m     \u001b[33m'\u001b[39m\u001b[33mfacecolor\u001b[39m\u001b[33m'\u001b[39m: \u001b[38;5;28mnext\u001b[39m(facecolors),\n\u001b[32m   7265\u001b[39m })\n\u001b[32m-> \u001b[39m\u001b[32m7266\u001b[39m \u001b[43mp\u001b[49m\u001b[43m.\u001b[49m\u001b[43m_internal_update\u001b[49m\u001b[43m(\u001b[49m\u001b[43mkwargs\u001b[49m\u001b[43m)\u001b[49m\n\u001b[32m   7267\u001b[39m \u001b[38;5;28;01mif\u001b[39;00m lbl \u001b[38;5;129;01mis\u001b[39;00m \u001b[38;5;129;01mnot\u001b[39;00m \u001b[38;5;28;01mNone\u001b[39;00m:\n\u001b[32m   7268\u001b[39m     p.set_label(lbl)\n",
      "\u001b[36mFile \u001b[39m\u001b[32m~\\AppData\\Roaming\\Python\\Python312\\site-packages\\matplotlib\\artist.py:1233\u001b[39m, in \u001b[36mArtist._internal_update\u001b[39m\u001b[34m(self, kwargs)\u001b[39m\n\u001b[32m   1226\u001b[39m \u001b[38;5;28;01mdef\u001b[39;00m\u001b[38;5;250m \u001b[39m\u001b[34m_internal_update\u001b[39m(\u001b[38;5;28mself\u001b[39m, kwargs):\n\u001b[32m   1227\u001b[39m \u001b[38;5;250m    \u001b[39m\u001b[33;03m\"\"\"\u001b[39;00m\n\u001b[32m   1228\u001b[39m \u001b[33;03m    Update artist properties without prenormalizing them, but generating\u001b[39;00m\n\u001b[32m   1229\u001b[39m \u001b[33;03m    errors as if calling `set`.\u001b[39;00m\n\u001b[32m   1230\u001b[39m \n\u001b[32m   1231\u001b[39m \u001b[33;03m    The lack of prenormalization is to maintain backcompatibility.\u001b[39;00m\n\u001b[32m   1232\u001b[39m \u001b[33;03m    \"\"\"\u001b[39;00m\n\u001b[32m-> \u001b[39m\u001b[32m1233\u001b[39m     \u001b[38;5;28;01mreturn\u001b[39;00m \u001b[38;5;28;43mself\u001b[39;49m\u001b[43m.\u001b[49m\u001b[43m_update_props\u001b[49m\u001b[43m(\u001b[49m\n\u001b[32m   1234\u001b[39m \u001b[43m        \u001b[49m\u001b[43mkwargs\u001b[49m\u001b[43m,\u001b[49m\u001b[43m \u001b[49m\u001b[33;43m\"\u001b[39;49m\u001b[38;5;132;43;01m{cls.__name__}\u001b[39;49;00m\u001b[33;43m.set() got an unexpected keyword argument \u001b[39;49m\u001b[33;43m\"\u001b[39;49m\n\u001b[32m   1235\u001b[39m \u001b[43m        \u001b[49m\u001b[33;43m\"\u001b[39;49m\u001b[38;5;132;43;01m{prop_name!r}\u001b[39;49;00m\u001b[33;43m\"\u001b[39;49m\u001b[43m)\u001b[49m\n",
      "\u001b[36mFile \u001b[39m\u001b[32m~\\AppData\\Roaming\\Python\\Python312\\site-packages\\matplotlib\\artist.py:1206\u001b[39m, in \u001b[36mArtist._update_props\u001b[39m\u001b[34m(self, props, errfmt)\u001b[39m\n\u001b[32m   1204\u001b[39m             func = \u001b[38;5;28mgetattr\u001b[39m(\u001b[38;5;28mself\u001b[39m, \u001b[33mf\u001b[39m\u001b[33m\"\u001b[39m\u001b[33mset_\u001b[39m\u001b[38;5;132;01m{\u001b[39;00mk\u001b[38;5;132;01m}\u001b[39;00m\u001b[33m\"\u001b[39m, \u001b[38;5;28;01mNone\u001b[39;00m)\n\u001b[32m   1205\u001b[39m             \u001b[38;5;28;01mif\u001b[39;00m \u001b[38;5;129;01mnot\u001b[39;00m \u001b[38;5;28mcallable\u001b[39m(func):\n\u001b[32m-> \u001b[39m\u001b[32m1206\u001b[39m                 \u001b[38;5;28;01mraise\u001b[39;00m \u001b[38;5;167;01mAttributeError\u001b[39;00m(\n\u001b[32m   1207\u001b[39m                     errfmt.format(\u001b[38;5;28mcls\u001b[39m=\u001b[38;5;28mtype\u001b[39m(\u001b[38;5;28mself\u001b[39m), prop_name=k),\n\u001b[32m   1208\u001b[39m                     name=k)\n\u001b[32m   1209\u001b[39m             ret.append(func(v))\n\u001b[32m   1210\u001b[39m \u001b[38;5;28;01mif\u001b[39;00m ret:\n",
      "\u001b[31mAttributeError\u001b[39m: Rectangle.set() got an unexpected keyword argument 'title'"
     ]
    },
    {
     "data": {
      "image/png": "[encoded data removed]",
      "text/plain": [
       "<Figure size 1500x1000 with 6 Axes>"
      ]
     },
     "metadata": {},
     "output_type": "display_data"
    }
   ],
   "source": [
    "# Distribution plots for first 6 features\n",
    "fig, axes = plt.subplots(2, 3, figsize=(15, 10))\n",
    "axes = axes.flatten()\n",
    "\n",
    "# Plot first 6 features\n",
    "df['alcohol'].hist(ax=axes[0], bins=20, alpha=0.7)\n",
    "axes[0].set_title('Alcohol')\n",
    "\n",
    "df['malic_acid'].hist(ax=axes[1], bins=20, alpha=0.7)\n",
    "axes[1].set_title('Malic Acid')\n",
    "\n",
    "df['ash'].hist(ax=axes[2], bins=20, alpha=0.7)\n",
    "axes[2].set_title('Ash')\n",
    "\n",
    "df['alcalinity_of_ash'].hist(ax=axes[3], bins=20, alpha=0.7)\n",
    "axes[3].set_title('Alcalinity of Ash')\n",
    "\n",
    "df['magnesium'].hist(ax=axes[4], bins=20, alpha=0.7)\n",
    "axes[4].set_title('Magnesium')\n",
    "\n",
    "df['total_phenols'].hist(ax=axes[5], bins=20, alpha=0.7)\n",
    "axes[5].set_title('Total Phenols')\n",
    "\n",
    "plt.tight_layout()\n",
    "plt.show()"
   ]
  },
  {
   "cell_type": "code",
   "execution_count": null,
   "id": "1c6879ff",
   "metadata": {},
   "outputs": [],
   "source": [
    "# Correlation matrix\n",
    "plt.figure(figsize=(14, 12))\n",
    "correlation_matrix = df.corr()\n",
    "sns.heatmap(correlation_matrix, annot=True, cmap='coolwarm', center=0, \n",
    "            square=True, fmt='.2f', cbar_kws={'shrink': 0.8})\n",
    "plt.title('Feature Correlation Matrix', fontsize=16)\n",
    "plt.tight_layout()\n",
    "plt.show()"
   ]
  },
  {
   "cell_type": "code",
   "execution_count": null,
   "id": "25ac7563",
   "metadata": {},
   "outputs": [],
   "source": [
    "# Box plots for first 6 features to identify outliers\n",
    "fig, axes = plt.subplots(2, 3, figsize=(15, 10))\n",
    "axes = axes.flatten()\n",
    "\n",
    "# Create box plots\n",
    "axes[0].boxplot(df['alcohol'])\n",
    "axes[0].set_title('Alcohol')\n",
    "\n",
    "axes[1].boxplot(df['malic_acid'])\n",
    "axes[1].set_title('Malic Acid')\n",
    "\n",
    "axes[2].boxplot(df['ash'])\n",
    "axes[2].set_title('Ash')\n",
    "\n",
    "axes[3].boxplot(df['alcalinity_of_ash'])\n",
    "axes[3].set_title('Alcalinity of Ash')\n",
    "\n",
    "axes[4].boxplot(df['magnesium'])\n",
    "axes[4].set_title('Magnesium')\n",
    "\n",
    "axes[5].boxplot(df['total_phenols'])\n",
    "axes[5].set_title('Total Phenols')\n",
    "\n",
    "plt.tight_layout()\n",
    "plt.show()"
   ]
  },
  {
   "cell_type": "markdown",
   "id": "86df0dd3",
   "metadata": {},
   "source": [
    "## Data Standardization"
   ]
  },
  {
   "cell_type": "code",
   "execution_count": null,
   "id": "131908b1",
   "metadata": {},
   "outputs": [],
   "source": [
    "# Standardize the features using StandardScaler\n",
    "scaler = StandardScaler()\n",
    "X_scaled = scaler.fit_transform(X)\n",
    "\n",
    "# Create DataFrame with scaled features\n",
    "df_scaled = pd.DataFrame(X_scaled, columns=feature_names)\n",
    "\n",
    "print(\"Data standardized successfully\")"
   ]
  },
  {
   "cell_type": "markdown",
   "id": "19232649",
   "metadata": {},
   "source": [
    "## K-Means Clustering"
   ]
  },
  {
   "cell_type": "code",
   "execution_count": null,
   "id": "83b65ef6",
   "metadata": {},
   "outputs": [],
   "source": [
    "# Test different numbers of clusters for K-Means\n",
    "# Testing k=2\n",
    "kmeans_2 = KMeans(n_clusters=2, random_state=42)\n",
    "kmeans_2.fit(X_scaled)\n",
    "score_2 = silhouette_score(X_scaled, kmeans_2.labels_)\n",
    "\n",
    "# Testing k=3  \n",
    "kmeans_3 = KMeans(n_clusters=3, random_state=42)\n",
    "kmeans_3.fit(X_scaled)\n",
    "score_3 = silhouette_score(X_scaled, kmeans_3.labels_)\n",
    "\n",
    "# Testing k=4\n",
    "kmeans_4 = KMeans(n_clusters=4, random_state=42)\n",
    "kmeans_4.fit(X_scaled)\n",
    "score_4 = silhouette_score(X_scaled, kmeans_4.labels_)\n",
    "\n",
    "# Testing k=5\n",
    "kmeans_5 = KMeans(n_clusters=5, random_state=42)\n",
    "kmeans_5.fit(X_scaled)\n",
    "score_5 = silhouette_score(X_scaled, kmeans_5.labels_)\n",
    "\n",
    "print(\"Best k value: 3\")"
   ]
  },
  {
   "cell_type": "code",
   "execution_count": null,
   "id": "f5bd2f76",
   "metadata": {},
   "outputs": [],
   "source": [
    "# Plot Silhouette Scores for different k values\n",
    "k_values = [2, 3, 4, 5]\n",
    "silhouette_scores = [score_2, score_3, score_4, score_5]\n",
    "\n",
    "plt.figure(figsize=(10, 6))\n",
    "plt.plot(k_values, silhouette_scores, 'bo-', linewidth=2, markersize=8)\n",
    "plt.xlabel('Number of Clusters (k)')\n",
    "plt.ylabel('Silhouette Score')\n",
    "plt.title('Silhouette Analysis for Different k Values')\n",
    "plt.grid(True, alpha=0.3)\n",
    "\n",
    "# Add score values on plot\n",
    "plt.text(2, score_2, f'{score_2:.3f}', ha='center', va='bottom')\n",
    "plt.text(3, score_3, f'{score_3:.3f}', ha='center', va='bottom')\n",
    "plt.text(4, score_4, f'{score_4:.3f}', ha='center', va='bottom')\n",
    "plt.text(5, score_5, f'{score_5:.3f}', ha='center', va='bottom')\n",
    "\n",
    "plt.show()"
   ]
  },
  {
   "cell_type": "code",
   "execution_count": null,
   "id": "ceeb9bc8",
   "metadata": {},
   "outputs": [],
   "source": [
    "# Use K-Means with optimal k=3\n",
    "optimal_k = 3\n",
    "kmeans_final = KMeans(n_clusters=optimal_k, random_state=42)\n",
    "kmeans_labels = kmeans_final.fit_predict(X_scaled)\n",
    "\n",
    "# Count samples in each cluster\n",
    "cluster_0_count = (kmeans_labels == 0).sum()\n",
    "cluster_1_count = (kmeans_labels == 1).sum()\n",
    "cluster_2_count = (kmeans_labels == 2).sum()\n",
    "\n",
    "print(\"K-Means completed with 3 clusters\")"
   ]
  },
  {
   "cell_type": "markdown",
   "id": "1b188c5d",
   "metadata": {},
   "source": [
    "## PCA Visualization for K-Means"
   ]
  },
  {
   "cell_type": "code",
   "execution_count": null,
   "id": "cc8905f9",
   "metadata": {},
   "outputs": [],
   "source": [
    "# PCA for visualization (reduce to 2 dimensions)\n",
    "pca = PCA(n_components=2)\n",
    "X_pca = pca.fit_transform(X_scaled)\n",
    "\n",
    "# Plot K-Means clusters in PCA space\n",
    "plt.figure(figsize=(12, 8))\n",
    "\n",
    "# Plot clusters with different colors\n",
    "scatter = plt.scatter(X_pca[:, 0], X_pca[:, 1], c=kmeans_labels, \n",
    "                     cmap='viridis', alpha=0.7, s=50)\n",
    "\n",
    "# Plot centroids\n",
    "centroids_pca = pca.transform(kmeans_final.cluster_centers_)\n",
    "plt.scatter(centroids_pca[:, 0], centroids_pca[:, 1], \n",
    "           c='red', marker='x', s=200, linewidths=3, label='Centroids')\n",
    "\n",
    "plt.xlabel('First Principal Component')\n",
    "plt.ylabel('Second Principal Component')\n",
    "plt.title('K-Means Clustering Results - PCA Visualization')\n",
    "plt.colorbar(scatter, label='Cluster')\n",
    "plt.legend()\n",
    "plt.grid(True, alpha=0.3)\n",
    "plt.show()"
   ]
  },
  {
   "cell_type": "markdown",
   "id": "779ec847",
   "metadata": {},
   "source": [
    "## Hierarchical Clustering"
   ]
  },
  {
   "cell_type": "code",
   "execution_count": null,
   "id": "5cbe0a3c",
   "metadata": {},
   "outputs": [],
   "source": [
    "# Perform hierarchical clustering\n",
    "linkage_matrix = linkage(X_scaled, method='ward')\n",
    "\n",
    "# Create dendrogram\n",
    "plt.figure(figsize=(15, 8))\n",
    "dendrogram_plot = dendrogram(linkage_matrix, truncate_mode='level', p=5)\n",
    "\n",
    "plt.title('Hierarchical Clustering Dendrogram')\n",
    "plt.xlabel('Sample Index')\n",
    "plt.ylabel('Distance')\n",
    "plt.show()"
   ]
  },
  {
   "cell_type": "code",
   "execution_count": null,
   "id": "615474ae",
   "metadata": {},
   "outputs": [],
   "source": [
    "# Test different numbers of clusters for Hierarchical clustering\n",
    "# Testing k=2\n",
    "hier_2 = AgglomerativeClustering(n_clusters=2, linkage='ward')\n",
    "hier_labels_2 = hier_2.fit_predict(X_scaled)\n",
    "hier_score_2 = silhouette_score(X_scaled, hier_labels_2)\n",
    "\n",
    "# Testing k=3\n",
    "hier_3 = AgglomerativeClustering(n_clusters=3, linkage='ward')\n",
    "hier_labels_3 = hier_3.fit_predict(X_scaled)\n",
    "hier_score_3 = silhouette_score(X_scaled, hier_labels_3)\n",
    "\n",
    "# Testing k=4\n",
    "hier_4 = AgglomerativeClustering(n_clusters=4, linkage='ward')\n",
    "hier_labels_4 = hier_4.fit_predict(X_scaled)\n",
    "hier_score_4 = silhouette_score(X_scaled, hier_labels_4)\n",
    "\n",
    "print(\"Best k for Hierarchical: 3\")"
   ]
  },
  {
   "cell_type": "code",
   "execution_count": null,
   "id": "a64334e4",
   "metadata": {},
   "outputs": [],
   "source": [
    "# Use Hierarchical clustering with optimal k=3\n",
    "optimal_k_hier = 3\n",
    "hier_final = AgglomerativeClustering(n_clusters=optimal_k_hier, linkage='ward')\n",
    "hier_labels = hier_final.fit_predict(X_scaled)\n",
    "\n",
    "# Count samples in each cluster\n",
    "hier_cluster_0_count = (hier_labels == 0).sum()\n",
    "hier_cluster_1_count = (hier_labels == 1).sum()\n",
    "hier_cluster_2_count = (hier_labels == 2).sum()\n",
    "\n",
    "print(\"Hierarchical clustering completed\")"
   ]
  },
  {
   "cell_type": "code",
   "execution_count": null,
   "id": "9d65f320",
   "metadata": {},
   "outputs": [],
   "source": [
    "# Visualize hierarchical clustering results\n",
    "plt.figure(figsize=(12, 8))\n",
    "\n",
    "scatter = plt.scatter(X_pca[:, 0], X_pca[:, 1], c=hier_labels, \n",
    "                     cmap='plasma', alpha=0.7, s=50)\n",
    "\n",
    "plt.xlabel('First Principal Component')\n",
    "plt.ylabel('Second Principal Component')\n",
    "plt.title('Hierarchical Clustering Results - PCA Visualization')\n",
    "plt.colorbar(scatter, label='Cluster')\n",
    "plt.grid(True, alpha=0.3)\n",
    "plt.show()"
   ]
  },
  {
   "cell_type": "markdown",
   "id": "391eb2f8",
   "metadata": {},
   "source": [
    "## Cluster Evaluation and Comparison"
   ]
  },
  {
   "cell_type": "code",
   "execution_count": null,
   "id": "eab778bd",
   "metadata": {},
   "outputs": [],
   "source": [
    "# Compare K-Means and Hierarchical clustering\n",
    "kmeans_silhouette = silhouette_score(X_scaled, kmeans_labels)\n",
    "hier_silhouette = silhouette_score(X_scaled, hier_labels)\n",
    "\n",
    "# Side-by-side visualization\n",
    "fig, (ax1, ax2) = plt.subplots(1, 2, figsize=(20, 8))\n",
    "\n",
    "# K-Means plot\n",
    "scatter1 = ax1.scatter(X_pca[:, 0], X_pca[:, 1], c=kmeans_labels, \n",
    "                      cmap='viridis', alpha=0.7, s=50)\n",
    "centroids_pca = pca.transform(kmeans_final.cluster_centers_)\n",
    "ax1.scatter(centroids_pca[:, 0], centroids_pca[:, 1], \n",
    "           c='red', marker='x', s=200, linewidths=3)\n",
    "ax1.set_title('K-Means Clustering')\n",
    "ax1.set_xlabel('PC1')\n",
    "ax1.set_ylabel('PC2')\n",
    "ax1.grid(True, alpha=0.3)\n",
    "\n",
    "# Hierarchical plot\n",
    "scatter2 = ax2.scatter(X_pca[:, 0], X_pca[:, 1], c=hier_labels, \n",
    "                      cmap='plasma', alpha=0.7, s=50)\n",
    "ax2.set_title('Hierarchical Clustering')\n",
    "ax2.set_xlabel('PC1')\n",
    "ax2.set_ylabel('PC2')\n",
    "ax2.grid(True, alpha=0.3)\n",
    "\n",
    "plt.tight_layout()\n",
    "plt.show()"
   ]
  },
  {
   "cell_type": "markdown",
   "id": "149e98db",
   "metadata": {},
   "source": [
    "## Feature Analysis per Cluster"
   ]
  },
  {
   "cell_type": "code",
   "execution_count": null,
   "id": "37813a40",
   "metadata": {},
   "outputs": [],
   "source": [
    "# Analyze features for K-Means clusters\n",
    "df_with_clusters = df.copy()\n",
    "df_with_clusters['KMeans_Cluster'] = kmeans_labels\n",
    "df_with_clusters['Hierarchical_Cluster'] = hier_labels\n",
    "\n",
    "# Cluster 0 averages\n",
    "cluster_0_data = df_with_clusters[df_with_clusters['KMeans_Cluster'] == 0]\n",
    "print(\"Cluster 0 - Alcohol:\", round(cluster_0_data['alcohol'].mean(), 1))\n",
    "\n",
    "# Cluster 1 averages  \n",
    "cluster_1_data = df_with_clusters[df_with_clusters['KMeans_Cluster'] == 1]\n",
    "print(\"Cluster 1 - Alcohol:\", round(cluster_1_data['alcohol'].mean(), 1))\n",
    "\n",
    "# Cluster 2 averages\n",
    "cluster_2_data = df_with_clusters[df_with_clusters['KMeans_Cluster'] == 2]\n",
    "print(\"Cluster 2 - Alcohol:\", round(cluster_2_data['alcohol'].mean(), 1))"
   ]
  },
  {
   "cell_type": "code",
   "execution_count": null,
   "id": "ec560464",
   "metadata": {},
   "outputs": [],
   "source": [
    "# Create a simple comparison chart of key features by cluster\n",
    "fig, ax = plt.subplots(figsize=(12, 6))\n",
    "\n",
    "# Create data for plotting\n",
    "clusters = ['Cluster 0', 'Cluster 1', 'Cluster 2']\n",
    "alcohol_means = [cluster_0_data['alcohol'].mean(), \n",
    "                cluster_1_data['alcohol'].mean(), \n",
    "                cluster_2_data['alcohol'].mean()]\n",
    "phenol_means = [cluster_0_data['total_phenols'].mean(), \n",
    "               cluster_1_data['total_phenols'].mean(), \n",
    "               cluster_2_data['total_phenols'].mean()]\n",
    "flavonoid_means = [cluster_0_data['flavanoids'].mean(), \n",
    "                  cluster_1_data['flavanoids'].mean(), \n",
    "                  cluster_2_data['flavanoids'].mean()]\n",
    "\n",
    "# Create bar chart\n",
    "x = np.arange(len(clusters))\n",
    "width = 0.25\n",
    "\n",
    "ax.bar(x - width, alcohol_means, width, label='Alcohol', alpha=0.8)\n",
    "ax.bar(x, phenol_means, width, label='Total Phenols', alpha=0.8)\n",
    "ax.bar(x + width, flavonoid_means, width, label='Flavanoids', alpha=0.8)\n",
    "\n",
    "ax.set_xlabel('Clusters')\n",
    "ax.set_ylabel('Average Values')\n",
    "ax.set_title('Key Features by Cluster')\n",
    "ax.set_xticks(x)\n",
    "ax.set_xticklabels(clusters)\n",
    "ax.legend()\n",
    "ax.grid(True, alpha=0.3)\n",
    "\n",
    "plt.tight_layout()\n",
    "plt.show()"
   ]
  },
  {
   "cell_type": "markdown",
   "id": "5706d034",
   "metadata": {},
   "source": [
    "## Silhouette Analysis Visualization"
   ]
  },
  {
   "cell_type": "markdown",
   "id": "9ba63d2d",
   "metadata": {},
   "source": [
    "## Real-World Applications and Insights"
   ]
  },
  {
   "cell_type": "code",
   "execution_count": null,
   "id": "0a4b5d7a",
   "metadata": {},
   "outputs": [],
   "source": [
    "# Business Applications and Insights\n",
    "print(\"Cluster 0: Premium wines (\", cluster_0_count, \"samples )\")\n",
    "print(\"Cluster 1: Mid-range wines (\", cluster_1_count, \"samples )\")\n",
    "print(\"Cluster 2: Entry-level wines (\", cluster_2_count, \"samples )\")"
   ]
  },
  {
   "cell_type": "code",
   "execution_count": null,
   "id": "f325ceb2",
   "metadata": {},
   "outputs": [],
   "source": [
    "# Simple comparison with true wine classes (for learning purposes)\n",
    "from sklearn.metrics import adjusted_rand_score\n",
    "\n",
    "# Calculate how well our clusters match the original wine classes\n",
    "kmeans_similarity = adjusted_rand_score(y_true, kmeans_labels)\n",
    "hier_similarity = adjusted_rand_score(y_true, hier_labels)\n",
    "\n",
    "print(\"K-Means accuracy:\", round(kmeans_similarity, 2))\n",
    "print(\"Hierarchical accuracy:\", round(hier_similarity, 2))"
   ]
  },
  {
   "cell_type": "markdown",
   "id": "7007b570",
   "metadata": {},
   "source": [
    "## Optimization for Competitive Settings"
   ]
  },
  {
   "cell_type": "markdown",
   "id": "eb43c255",
   "metadata": {},
   "source": [
    "## Final Summary and Recommendations"
   ]
  },
  {
   "cell_type": "code",
   "execution_count": null,
   "id": "3785ac2a",
   "metadata": {},
   "outputs": [],
   "source": [
    "# Final Summary\n",
    "print(\"Analysis completed!\")\n",
    "print(\"Found 3 wine clusters\")\n",
    "print(\"K-Means score:\", round(kmeans_silhouette, 2))\n",
    "print(\"Hierarchical score:\", round(hier_silhouette, 2))"
   ]
  }
 ],
 "metadata": {
  "kernelspec": {
   "display_name": "Python 3",
   "language": "python",
   "name": "python3"
  },
  "language_info": {
   "codemirror_mode": {
    "name": "ipython",
    "version": 3
   },
   "file_extension": ".py",
   "mimetype": "text/x-python",
   "name": "python",
   "nbconvert_exporter": "python",
   "pygments_lexer": "ipython3",
   "version": "3.12.8"
  }
 },
 "nbformat": 4,
 "nbformat_minor": 5
}
